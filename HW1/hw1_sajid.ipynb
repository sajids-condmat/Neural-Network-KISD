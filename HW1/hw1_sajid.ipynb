{
 "cells": [
  {
   "cell_type": "markdown",
   "id": "62bc7862-5750-4d64-aa13-2c9488c1e65d",
   "metadata": {},
   "source": [
    "## Lecture 1: Exercises\n",
    "---"
   ]
  },
  {
   "cell_type": "code",
   "execution_count": 74,
   "id": "41ecd7b9-3a06-424d-b329-9d8a858942e6",
   "metadata": {},
   "outputs": [],
   "source": [
    "from numpy import heaviside, dot, insert,zeros,linspace\n",
    "bit = [0,1] #2-bit inputs for gates"
   ]
  },
  {
   "cell_type": "code",
   "execution_count": 2,
   "id": "27348f88-65af-4e92-a2f6-4881ded93cee",
   "metadata": {},
   "outputs": [],
   "source": [
    "def neur(xlist,wlist):\n",
    "    \"\"\"\n",
    "    Takes input data list x and weight list w, appends x[0]=1, \n",
    "    and computes a dot product s=x*w.\n",
    "    \n",
    "    -----\n",
    "    Output: 1 if s>0, otherwise returns 0.\n",
    "    \"\"\"\n",
    "    xlist.insert(0,1)\n",
    "    s = dot(xlist,wlist)\n",
    "    return int(heaviside(s, 0)) #Heavisidde at x=0 is set to zero."
   ]
  },
  {
   "cell_type": "markdown",
   "id": "e05da5b7-c8cc-40b1-a769-10c5b07b9479",
   "metadata": {},
   "source": [
    "### a gate realizing conjunction of multiple boolean variables\n",
    "\n",
    "For a N-input AND gate, every output is 0 unless all the bits are 1.\n",
    "* When all the bits are 0, we have 0 as an output, and the neuron cannot fire, i.e, the bias $w_0<0$ must be negative. Let's set $w_0=-1$. \n",
    "* The neuron only fires if all the bits are 1, which gives $w_0+w_1+...+w_N > 0$. If the weights are equal (say $w$), we get $w>(1/N)$.\n",
    "* Therefore, a possible choice of the weight list is $w \\in \\{-1,\\frac{1}{N},\\frac{1}{N},...,\\frac{1}{N}\\}$"
   ]
  },
  {
   "cell_type": "code",
   "execution_count": 3,
   "id": "82311e6f-593f-4344-8dd2-79d406924f30",
   "metadata": {},
   "outputs": [
    {
     "name": "stdout",
     "output_type": "stream",
     "text": [
      "p q r p^q^r\n",
      "\n",
      "0 0 0 0\n",
      "0 0 1 0\n",
      "0 1 0 0\n",
      "0 1 1 0\n",
      "1 0 0 0\n",
      "1 0 1 0\n",
      "1 1 0 0\n",
      "1 1 1 1\n"
     ]
    }
   ],
   "source": [
    "def neur3AND(p,q,r): #3-input AND gate\n",
    "    return neur([p,q,r], [-1,0.34,0.34,0.34])\n",
    "\n",
    "print('p q r p^q^r')\n",
    "print()\n",
    "for p in bit:\n",
    "    for q in bit:\n",
    "        for r in bit:\n",
    "            print(p, q, r, neur3AND(p,q,r))"
   ]
  },
  {
   "cell_type": "code",
   "execution_count": 4,
   "id": "b2d8bf7c-5282-41a7-92e5-b36258c5908a",
   "metadata": {},
   "outputs": [
    {
     "name": "stdout",
     "output_type": "stream",
     "text": [
      "p q r s Output=p^q^r^s\n",
      "\n",
      "0 0 0 0   0\n",
      "0 0 0 1   0\n",
      "0 0 1 0   0\n",
      "0 0 1 1   0\n",
      "0 1 0 0   0\n",
      "0 1 0 1   0\n",
      "0 1 1 0   0\n",
      "0 1 1 1   0\n",
      "1 0 0 0   0\n",
      "1 0 0 1   0\n",
      "1 0 1 0   0\n",
      "1 0 1 1   0\n",
      "1 1 0 0   0\n",
      "1 1 0 1   0\n",
      "1 1 1 0   0\n",
      "1 1 1 1   1\n"
     ]
    }
   ],
   "source": [
    "def neur4AND(p,q,r,s): #4-input AND gate\n",
    "    return neur([p,q,r,s], [-1,0.26,0.26,0.26,0.26])\n",
    "\n",
    "print('p q r s Output=p^q^r^s')\n",
    "print()\n",
    "for p in bit:\n",
    "    for q in bit:\n",
    "        for r in bit:\n",
    "            for s in bit:\n",
    "                print(p, q, r, s, ' ', neur4AND(p,q,r,s))"
   ]
  },
  {
   "cell_type": "markdown",
   "id": "799e84fe-4667-41c2-92db-2e8c16cd030c",
   "metadata": {
    "tags": []
   },
   "source": [
    "### gates NOT, NOR;"
   ]
  },
  {
   "cell_type": "markdown",
   "id": "16836d08-f1c3-4f89-9db3-b721f944fc4e",
   "metadata": {},
   "source": [
    "For NOT gate, we have i) $w_0>0$, and ii) $w_0+w_1 \\le 0$. This gives $w_1\\le -1$ if $w_0=1$."
   ]
  },
  {
   "cell_type": "code",
   "execution_count": 5,
   "id": "d5b7f822-eaf5-4fe7-ae52-338ebeea3386",
   "metadata": {},
   "outputs": [
    {
     "name": "stdout",
     "output_type": "stream",
     "text": [
      "p Output=NOT p\n",
      "\n",
      "0   1\n",
      "1   0\n"
     ]
    }
   ],
   "source": [
    "def neurNOT(p): return neur([p], [1, -1.5])\n",
    "print('p Output=NOT p')\n",
    "print()\n",
    "for p in bit:\n",
    "    print(p, ' ', neurNOT(p))"
   ]
  },
  {
   "cell_type": "markdown",
   "id": "49fd616c-52a1-4635-98de-7e87ff2ee69c",
   "metadata": {},
   "source": [
    "For NOR gate, the neuron should fire if all the bits are 0, i.e., $w_0>0$. If we take $w_0=1$, we have $w_1,w_2<-1$ from other conditions."
   ]
  },
  {
   "cell_type": "code",
   "execution_count": 6,
   "id": "8de5f8e9-5557-4128-b940-506b162fb9d3",
   "metadata": {},
   "outputs": [
    {
     "name": "stdout",
     "output_type": "stream",
     "text": [
      "p q Output=p NOR q\n",
      "\n",
      "0 0   1\n",
      "0 1   0\n",
      "1 0   0\n",
      "1 1   0\n"
     ]
    }
   ],
   "source": [
    "def neurNOR(p,q): return neur([p,q], [1, -1.5, -1.5])\n",
    "print('p q Output=p NOR q')\n",
    "print()\n",
    "for p in bit:\n",
    "    for q in bit:\n",
    "        print(p, q, ' ', neurNOR(p,q))"
   ]
  },
  {
   "cell_type": "markdown",
   "id": "88f8dc51-3b3c-4b2b-ae76-fa00c5f589f5",
   "metadata": {
    "tags": []
   },
   "source": [
    "### gates OR, AND, NOT by composing NAND gates;\n",
    "\n",
    "* OR gate: (p NAND p) NAND (q NAND q)\n",
    "* AND gate: (p NAND q) NAND (p NAND q)\n",
    "* NOT gate: p NAND p"
   ]
  },
  {
   "cell_type": "code",
   "execution_count": 7,
   "id": "c6a982b8-02e2-4c1b-8769-e873c865309d",
   "metadata": {},
   "outputs": [],
   "source": [
    "def neurNAND(p,q): return neur([p,q],[1,-0.6,-0.6]) #Define the NAND gate"
   ]
  },
  {
   "cell_type": "code",
   "execution_count": 8,
   "id": "e2e94c1d-b12c-4458-ab78-54acfe47a520",
   "metadata": {},
   "outputs": [
    {
     "name": "stdout",
     "output_type": "stream",
     "text": [
      "0 0   0\n",
      "0 1   1\n",
      "1 0   1\n",
      "1 1   1\n"
     ]
    }
   ],
   "source": [
    "def neur_ORfromNAND(p,q): return neurNAND(neurNAND(p,p), neurNAND(q,q))\n",
    "for p in bit:\n",
    "    for q in bit:\n",
    "        print(p,q,' ',neur_ORfromNAND(p,q))"
   ]
  },
  {
   "cell_type": "code",
   "execution_count": 9,
   "id": "81bc60a9-0045-4095-9c0f-be8f8e760bfd",
   "metadata": {},
   "outputs": [
    {
     "name": "stdout",
     "output_type": "stream",
     "text": [
      "0 0   0\n",
      "0 1   0\n",
      "1 0   0\n",
      "1 1   1\n"
     ]
    }
   ],
   "source": [
    "def neur_ANDfromNAND(p,q): return neurNAND(neurNAND(p,q), neurNAND(p,q))\n",
    "for p in bit:\n",
    "    for q in bit:\n",
    "        print(p,q,' ',neur_ANDfromNAND(p,q))"
   ]
  },
  {
   "cell_type": "code",
   "execution_count": 10,
   "id": "f05d341f-7191-46f5-9262-500a28ece5c0",
   "metadata": {},
   "outputs": [
    {
     "name": "stdout",
     "output_type": "stream",
     "text": [
      "0   1\n",
      "1   0\n"
     ]
    }
   ],
   "source": [
    "def neur_NOTfromNAND(p): return neurNAND(p,p)\n",
    "for p in bit:\n",
    "        print(p,' ',neur_NOTfromNAND(p))"
   ]
  },
  {
   "cell_type": "markdown",
   "id": "9ad519f2-5761-4bdf-b9d6-b9a06e9619df",
   "metadata": {},
   "source": [
    "### the half adder and full adder\n",
    "\n",
    "* The simplest half adder construction has the XOR gate as sum, and the AND gate as carry."
   ]
  },
  {
   "cell_type": "code",
   "execution_count": 11,
   "id": "faf16e48-78fe-4643-8e8e-badfe812424e",
   "metadata": {},
   "outputs": [
    {
     "name": "stdout",
     "output_type": "stream",
     "text": [
      "p q    C  S\n",
      "0 0   [0, 0]\n",
      "0 1   [0, 1]\n",
      "1 0   [0, 1]\n",
      "1 1   [1, 0]\n"
     ]
    }
   ],
   "source": [
    "def neurAND(p,q): return neur([p,q],[-1,.6,.6])\n",
    "def neurOR(p,q):   return neur([p,q],[-1,1.2,1.2])\n",
    "def neurXOR(p,q): return neurAND(neurNAND(p,q),neurOR(p,q))\n",
    "def neur_halfAdder(p,q):\n",
    "    C = neurAND(p,q) #carry\n",
    "    S = neurXOR(p,q) #sum\n",
    "    return [C, S]\n",
    "\n",
    "print('p q    C  S')\n",
    "for p in bit:\n",
    "    for q in bit:\n",
    "        print(p,q,' ',neur_halfAdder(p,q))"
   ]
  },
  {
   "cell_type": "markdown",
   "id": "0039e108-7251-4e8a-b6fc-199ae3d3b762",
   "metadata": {},
   "source": [
    "* The full adder has three inputs $p,q,r$ with carry $C = (p \\cdot q) + (r \\cdot (p \\bigoplus q))$ and sum $S = p \\bigoplus q \\bigoplus r$."
   ]
  },
  {
   "cell_type": "code",
   "execution_count": 12,
   "id": "4c65bab6-12c7-4b30-9032-370b9d1c5722",
   "metadata": {},
   "outputs": [
    {
     "name": "stdout",
     "output_type": "stream",
     "text": [
      "p q r    C  S\n",
      "0 0 0   [0, 0]\n",
      "0 0 1   [0, 1]\n",
      "0 1 0   [0, 1]\n",
      "0 1 1   [1, 0]\n",
      "1 0 0   [0, 1]\n",
      "1 0 1   [1, 0]\n",
      "1 1 0   [1, 0]\n",
      "1 1 1   [1, 1]\n"
     ]
    }
   ],
   "source": [
    "def neur_fullAdder(p, q, r):\n",
    "    C = neurOR(neurAND(p,q), neurAND(r, neurXOR(p,q)))\n",
    "    S = neurXOR(neurXOR(p,q), r) #XOR is associative\n",
    "    return [C, S]\n",
    "\n",
    "print('p q r    C  S')\n",
    "for p in bit:\n",
    "    for q in bit:\n",
    "        for r in bit:\n",
    "            print(p,q,r,' ',neur_fullAdder(p,q,r)) "
   ]
  },
  {
   "cell_type": "markdown",
   "id": "098cde5f-e806-490e-b8d2-53f8a5d95c48",
   "metadata": {
    "tags": []
   },
   "source": [
    "### Lecture 2: Exercises\n",
    "---"
   ]
  },
  {
   "cell_type": "code",
   "execution_count": 13,
   "id": "e90e00bc-6d15-4095-adf8-c4035867fce1",
   "metadata": {},
   "outputs": [],
   "source": [
    "import matplotlib.pyplot as plt\n",
    "from cv2 import imread, bitwise_not\n",
    "from numpy import outer, round"
   ]
  },
  {
   "cell_type": "code",
   "execution_count": 14,
   "id": "3bd935fc-45e8-4c3b-9f70-1633b91c45ff",
   "metadata": {},
   "outputs": [
    {
     "data": {
      "image/png": "[encoded data removed]",
      "text/plain": [
       "<Figure size 432x288 with 4 Axes>"
      ]
     },
     "metadata": {
      "needs_background": "light"
     },
     "output_type": "display_data"
    }
   ],
   "source": [
    "raw_R = imread('im_R.png', 0)\n",
    "raw_r = imread('im_r.png', 0)\n",
    "raw_Q = imread('im_Q.png', 0)\n",
    "raw_q = imread('im_q.png', 0)\n",
    "\n",
    "def make_binary(mat): #turns RGB into a binary image\n",
    "    mat_reverted = bitwise_not(mat)\n",
    "    return mat_reverted / 255.0\n",
    "\n",
    "R = make_binary(raw_R)\n",
    "r = make_binary(raw_r)\n",
    "Q = make_binary(raw_Q)\n",
    "q = make_binary(raw_q)\n",
    "\n",
    "fig, axs = plt.subplots(1,4)\n",
    "arr = [R,r,Q,q]\n",
    "for i,ax in enumerate(axs):\n",
    "    ax.set_axis_off()\n",
    "    ax.imshow(arr[i], cmap='inferno')"
   ]
  },
  {
   "cell_type": "code",
   "execution_count": 15,
   "id": "b57c20c8-d237-45bd-902c-26bf810545aa",
   "metadata": {},
   "outputs": [],
   "source": [
    "fR = R.flatten(); fr = r.flatten(); fQ = Q.flatten(); fq = q.flatten()\n",
    "#Define memory matrix\n",
    "M = (outer(fR,fr)/dot(fr,fr) +\n",
    "outer(fr,fR)/dot(fR,fR) +\n",
    "outer(fQ,fq)/dot(fq,fq) +\n",
    "outer(fq,fQ)/dot(fQ,fQ))"
   ]
  },
  {
   "cell_type": "code",
   "execution_count": 16,
   "id": "ce311ea2-5733-49d4-b9b0-e0cd8e99a5b1",
   "metadata": {},
   "outputs": [],
   "source": [
    "Rp = dot(M,fR).reshape(R.shape)\n",
    "rp = dot(M,fr).reshape(r.shape)\n",
    "Qp = dot(M,fQ).reshape(Q.shape)\n",
    "qp = dot(M,fq).reshape(q.shape)"
   ]
  },
  {
   "cell_type": "code",
   "execution_count": 17,
   "id": "a160248a-9019-4bf5-b085-353d63a191da",
   "metadata": {},
   "outputs": [
    {
     "data": {
      "image/png": "[encoded data removed]",
      "text/plain": [
       "<Figure size 432x288 with 4 Axes>"
      ]
     },
     "metadata": {
      "needs_background": "light"
     },
     "output_type": "display_data"
    }
   ],
   "source": [
    "fig, axs = plt.subplots(1,4)\n",
    "arrp = [Rp,rp,Qp,qp]\n",
    "for i,ax in enumerate(axs):\n",
    "    ax.set_axis_off()\n",
    "    ax.imshow(arrp[i], cmap='inferno')"
   ]
  },
  {
   "cell_type": "code",
   "execution_count": 18,
   "id": "dc01760d-1c1b-44ee-aa71-948f084558b3",
   "metadata": {},
   "outputs": [],
   "source": [
    "def filter_img(img, bias):\n",
    "    imgf = zeros((len(img),len(img)))\n",
    "    for i in range(len(img)):\n",
    "        for j in range(len(img)):\n",
    "            imgf[i,j] = neur( [img[i,j]], [-bias,1] ) \n",
    "    return imgf\n",
    "\n",
    "def plot_myfilter(bias):\n",
    "    fig, axs = plt.subplots(1,4)\n",
    "    for i,ax in enumerate(axs):\n",
    "        fig.text(0.45,0.65,'bias=%1.2f' %(bias),fontsize = 13)\n",
    "        ax.set_axis_off()\n",
    "        ax.imshow(filter_img(arrp[i], bias), cmap='inferno')"
   ]
  },
  {
   "cell_type": "code",
   "execution_count": 76,
   "id": "2f700cc3-c5b3-4e18-8f1a-6f8a0b2127a1",
   "metadata": {},
   "outputs": [
    {
     "data": {
      "image/png": "[encoded data removed]",
      "text/plain": [
       "<Figure size 432x288 with 4 Axes>"
      ]
     },
     "metadata": {
      "needs_background": "light"
     },
     "output_type": "display_data"
    },
    {
     "data": {
      "image/png": "[encoded data removed]",
      "text/plain": [
       "<Figure size 432x288 with 4 Axes>"
      ]
     },
     "metadata": {
      "needs_background": "light"
     },
     "output_type": "display_data"
    },
    {
     "data": {
      "image/png": "[encoded data removed]",
      "text/plain": [
       "<Figure size 432x288 with 4 Axes>"
      ]
     },
     "metadata": {
      "needs_background": "light"
     },
     "output_type": "display_data"
    },
    {
     "data": {
      "image/png": "[encoded data removed]",
      "text/plain": [
       "<Figure size 432x288 with 4 Axes>"
      ]
     },
     "metadata": {
      "needs_background": "light"
     },
     "output_type": "display_data"
    },
    {
     "data": {
      "image/png": "[encoded data removed]",
      "text/plain": [
       "<Figure size 432x288 with 4 Axes>"
      ]
     },
     "metadata": {
      "needs_background": "light"
     },
     "output_type": "display_data"
    },
    {
     "data": {
      "image/png": "[encoded data removed]",
      "text/plain": [
       "<Figure size 432x288 with 4 Axes>"
      ]
     },
     "metadata": {
      "needs_background": "light"
     },
     "output_type": "display_data"
    },
    {
     "data": {
      "image/png": "[encoded data removed]",
      "text/plain": [
       "<Figure size 432x288 with 4 Axes>"
      ]
     },
     "metadata": {
      "needs_background": "light"
     },
     "output_type": "display_data"
    },
    {
     "data": {
      "image/png": "[encoded data removed]",
      "text/plain": [
       "<Figure size 432x288 with 4 Axes>"
      ]
     },
     "metadata": {
      "needs_background": "light"
     },
     "output_type": "display_data"
    },
    {
     "data": {
      "image/png": "[encoded data removed]",
      "text/plain": [
       "<Figure size 432x288 with 4 Axes>"
      ]
     },
     "metadata": {
      "needs_background": "light"
     },
     "output_type": "display_data"
    },
    {
     "data": {
      "image/png": "[encoded data removed]",
      "text/plain": [
       "<Figure size 432x288 with 4 Axes>"
      ]
     },
     "metadata": {
      "needs_background": "light"
     },
     "output_type": "display_data"
    }
   ],
   "source": [
    "bias_list = linspace(0,1,10)\n",
    "[plot_myfilter(bias) for bias in bias_list];"
   ]
  },
  {
   "cell_type": "code",
   "execution_count": null,
   "id": "f9a02b9e-5487-4916-8152-4a9d49416936",
   "metadata": {},
   "outputs": [],
   "source": []
  }
 ],
 "metadata": {
  "kernelspec": {
   "display_name": "Python 3 (ipykernel)",
   "language": "python",
   "name": "python3"
  },
  "language_info": {
   "codemirror_mode": {
    "name": "ipython",
    "version": 3
   },
   "file_extension": ".py",
   "mimetype": "text/x-python",
   "name": "python",
   "nbconvert_exporter": "python",
   "pygments_lexer": "ipython3",
   "version": "3.8.13"
  }
 },
 "nbformat": 4,
 "nbformat_minor": 5
}
